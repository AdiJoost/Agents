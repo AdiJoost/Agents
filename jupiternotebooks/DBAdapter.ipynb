{
 "cells": [
  {
   "cell_type": "code",
   "execution_count": 7,
   "metadata": {},
   "outputs": [],
   "source": [
    "import pymongo\n"
   ]
  },
  {
   "cell_type": "code",
   "execution_count": 14,
   "metadata": {},
   "outputs": [],
   "source": [
    "# Verbindung zu MongoDB herstellen\n",
    "client = pymongo.MongoClient(\"mongodb://localhost:27017/\")\n"
   ]
  },
  {
   "cell_type": "code",
   "execution_count": 15,
   "metadata": {},
   "outputs": [],
   "source": [
    "# Datenbank auswählen\n",
    "db = client[\"agentDB\"]"
   ]
  },
  {
   "cell_type": "code",
   "execution_count": 16,
   "metadata": {},
   "outputs": [],
   "source": [
    "# Collection auswählen\n",
    "collection = db[\"test1\"]\n"
   ]
  },
  {
   "cell_type": "code",
   "execution_count": 20,
   "metadata": {},
   "outputs": [
    {
     "data": {
      "text/plain": [
       "InsertOneResult(ObjectId('67d83bf46ba3333f123b93eb'), acknowledged=True)"
      ]
     },
     "execution_count": 20,
     "metadata": {},
     "output_type": "execute_result"
    }
   ],
   "source": [
    "# Dokument einfügen\n",
    "collection.insert_one({\"Message\":\"Hello Me\", \"type\": \"testing\"})\n"
   ]
  },
  {
   "cell_type": "code",
   "execution_count": 21,
   "metadata": {},
   "outputs": [
    {
     "name": "stdout",
     "output_type": "stream",
     "text": [
      "{'_id': ObjectId('67d83b866ba3333f123b93ea'), 'Message': 'Hello Wold', 'type': 'testing'}\n",
      "{'_id': ObjectId('67d83bf46ba3333f123b93eb'), 'Message': 'Hello Me', 'type': 'testing'}\n"
     ]
    }
   ],
   "source": [
    "# Dokument abfragen\n",
    "for doc in collection.find():\n",
    "    print(doc)"
   ]
  },
  {
   "cell_type": "code",
   "execution_count": 76,
   "metadata": {},
   "outputs": [],
   "source": [
    "from pymongo import MongoClient\n",
    "from bson import ObjectId\n",
    "\n",
    "class MongoDBAdapter:\n",
    "\n",
    "    def __init__(self, uri=\"mongodb://localhost:27017/\") -> None:    #uri anpassen\n",
    "        #Verbindung zu MongoDB\n",
    "        self.client = MongoClient(uri)\n",
    "\n",
    "\n",
    "    def get_document(self, object_id: ObjectId, database_name: str, collection_name: str) -> any:\n",
    "        collection = self._get_collection(database_name, collection_name)\n",
    "        return collection.find_one({\"_id\": object_id})\n",
    "    \n",
    "    def get_document_by_game(self, game_id: int, database_name: str, collection_name: str):\n",
    "        collection = self._get_collection(database_name, collection_name)\n",
    "        return list(collection.find({\"game_id\": game_id}, {\"_id\": 0}))\n",
    "    \n",
    "    def get_document_by_round(self, game_id: int, round: int, database_name: str, collection_name: str):\n",
    "        collection = self._get_collection(database_name, collection_name)\n",
    "        return list(collection.find({\"game_id\": game_id, \"round\": round}, {\"_id\": 0}))\n",
    "    \n",
    "    def get_all_documents(self, database_name: str, collection_name: str):\n",
    "        collection = self._get_collection(database_name, collection_name)\n",
    "        return list(collection.find({}, {\"_id\": 0}))\n",
    "\n",
    "\n",
    "    def insert_document(self, document: dict, database_name: str, collection_name: str) -> ObjectId:  # Dokument als dictionary\n",
    "        collection = self._get_collection(database_name, collection_name)\n",
    "        result = collection.insert_one(document)\n",
    "        return result.inserted_id\n",
    "\n",
    "    def _get_collection(self, database_name: str, collection_name: str):\n",
    "        #Holt eine Sammlung aus der Datenbank\n",
    "        db = self.client[database_name]\n",
    "        return db[collection_name]\n",
    "\n"
   ]
  },
  {
   "cell_type": "code",
   "execution_count": 77,
   "metadata": {},
   "outputs": [],
   "source": [
    "testdoc1 = {\n",
    "            \"game_id\": 1,\n",
    "            \"round\": 1,\n",
    "            \"chatlog\": {\n",
    "                \"player\": \"Harald\",\n",
    "                \"role\": \"Faschist\",\n",
    "                \"text\": \"Der Bernhard ist ein böser!\"\n",
    "            }\n",
    "        }\n",
    "testdoc2 = {\n",
    "            \"game_id\": 1,\n",
    "            \"round\": 1,\n",
    "            \"chatlog\": {\n",
    "                \"player\": \"Bernhard\",\n",
    "                \"role\": \"Hitler\",\n",
    "                \"text\": \"Der Harald lügt.\"\n",
    "            }\n",
    "        }\n",
    "\n",
    "testdoc3 = {\n",
    "            \"game_id\": 1,\n",
    "            \"round\": 1,\n",
    "            \"chatlog\": {\n",
    "                \"player\": \"Franz\",\n",
    "                \"role\": \"Liberal\",\n",
    "                \"text\": \"Ich habe nix zu sagen\"\n",
    "            }\n",
    "        }\n",
    "\n",
    "testdoc4 = {\n",
    "            \"game_id\": 1,\n",
    "            \"round\": 1,\n",
    "            \"chatlog\": {\n",
    "                \"player\": \"Peter\",\n",
    "                \"role\": \"Liberal\",\n",
    "                \"text\": \"Huhu\"\n",
    "            }\n",
    "        }\n",
    "\n",
    "testdoc5 = {\n",
    "            \"game_id\": 1,\n",
    "            \"round\": 2,\n",
    "            \"chatlog\": {\n",
    "                \"player\": \"Harald\",\n",
    "                \"role\": \"Faschist\",\n",
    "                \"text\": \"Ich mag Bananen\"\n",
    "            }\n",
    "        }\n",
    "testdoc6 = {\n",
    "            \"game_id\": 1,\n",
    "            \"round\": 2,\n",
    "            \"chatlog\": {\n",
    "                \"player\": \"Bernhard\",\n",
    "                \"role\": \"Hitler\",\n",
    "                \"text\": \"Bananen sind doof\"\n",
    "            }\n",
    "        }\n",
    "\n",
    "testdoc7 = {\n",
    "            \"game_id\": 2,\n",
    "            \"round\": 1,\n",
    "            \"chatlog\": {\n",
    "                \"player\": \"Franz\",\n",
    "                \"role\": \"Liberal\",\n",
    "                \"text\": \"Mein Name ist einfallslos\"\n",
    "            }\n",
    "        }\n",
    "\n",
    "testdoc8 = {\n",
    "            \"game_id\": 2,\n",
    "            \"round\": 5,\n",
    "            \"chatlog\": {\n",
    "                \"player\": \"Peter\",\n",
    "                \"role\": \"Liberal\",\n",
    "                \"text\": \"Yipeeeee\"\n",
    "            }\n",
    "        }\n",
    "\n",
    "testdocs = [testdoc1, testdoc2, testdoc3, testdoc4, testdoc5, testdoc6, testdoc7, testdoc8]\n",
    "\n"
   ]
  },
  {
   "cell_type": "code",
   "execution_count": 78,
   "metadata": {},
   "outputs": [
    {
     "name": "stdout",
     "output_type": "stream",
     "text": [
      "Document IDs: [ObjectId('67db00cd6ba3333f123b940d'), ObjectId('67db00cd6ba3333f123b940e'), ObjectId('67db00cd6ba3333f123b940f'), ObjectId('67db00cd6ba3333f123b9410'), ObjectId('67db00cd6ba3333f123b9411'), ObjectId('67db00cd6ba3333f123b9412'), ObjectId('67db00cd6ba3333f123b9413'), ObjectId('67db00cd6ba3333f123b9414')]\n"
     ]
    }
   ],
   "source": [
    "doc_ids = []\n",
    "fetched_docs = []\n",
    "adapter = MongoDBAdapter()\n",
    "\n",
    "for doc in testdocs:\n",
    "    doc_id = adapter.insert_document(doc, \"agentDB\", \"test4\")\n",
    "    doc_ids.append(doc_id)\n",
    "\n",
    "print(f\"Document IDs: {doc_ids}\")"
   ]
  },
  {
   "cell_type": "code",
   "execution_count": 79,
   "metadata": {},
   "outputs": [
    {
     "name": "stdout",
     "output_type": "stream",
     "text": [
      "fetched Documents: [{'_id': ObjectId('67db00cd6ba3333f123b940d'), 'game_id': 1, 'round': 1, 'chatlog': {'player': 'Harald', 'role': 'Faschist', 'text': 'Der Bernhard ist ein böser!'}}, {'_id': ObjectId('67db00cd6ba3333f123b940e'), 'game_id': 1, 'round': 1, 'chatlog': {'player': 'Bernhard', 'role': 'Hitler', 'text': 'Der Harald lügt.'}}, {'_id': ObjectId('67db00cd6ba3333f123b940f'), 'game_id': 1, 'round': 1, 'chatlog': {'player': 'Franz', 'role': 'Liberal', 'text': 'Ich habe nix zu sagen'}}, {'_id': ObjectId('67db00cd6ba3333f123b9410'), 'game_id': 1, 'round': 1, 'chatlog': {'player': 'Peter', 'role': 'Liberal', 'text': 'Huhu'}}, {'_id': ObjectId('67db00cd6ba3333f123b9411'), 'game_id': 1, 'round': 2, 'chatlog': {'player': 'Harald', 'role': 'Faschist', 'text': 'Ich mag Bananen'}}, {'_id': ObjectId('67db00cd6ba3333f123b9412'), 'game_id': 1, 'round': 2, 'chatlog': {'player': 'Bernhard', 'role': 'Hitler', 'text': 'Bananen sind doof'}}, {'_id': ObjectId('67db00cd6ba3333f123b9413'), 'game_id': 2, 'round': 1, 'chatlog': {'player': 'Franz', 'role': 'Liberal', 'text': 'Mein Name ist einfallslos'}}, {'_id': ObjectId('67db00cd6ba3333f123b9414'), 'game_id': 2, 'round': 5, 'chatlog': {'player': 'Peter', 'role': 'Liberal', 'text': 'Yipeeeee'}}]\n"
     ]
    }
   ],
   "source": [
    "for id in doc_ids:\n",
    "    fetched = adapter.get_document(id, \"agentDB\", \"test4\")\n",
    "    fetched_docs.append(fetched)\n",
    "\n",
    "print(f\"fetched Documents: {fetched_docs}\")\n",
    "    "
   ]
  },
  {
   "cell_type": "code",
   "execution_count": 81,
   "metadata": {},
   "outputs": [
    {
     "name": "stdout",
     "output_type": "stream",
     "text": [
      "Documents by GameID: [{'game_id': 2, 'round': 1, 'chatlog': {'player': 'Franz', 'role': 'Liberal', 'text': 'Mein Name ist einfallslos'}}, {'game_id': 2, 'round': 5, 'chatlog': {'player': 'Peter', 'role': 'Liberal', 'text': 'Yipeeeee'}}]\n"
     ]
    }
   ],
   "source": [
    "game_fetch = adapter.get_document_by_game(2, \"agentDB\", \"test4\")\n",
    "print(f\"Documents by GameID: {game_fetch}\")"
   ]
  },
  {
   "cell_type": "code",
   "execution_count": 82,
   "metadata": {},
   "outputs": [
    {
     "name": "stdout",
     "output_type": "stream",
     "text": [
      "Documents by Round: [{'game_id': 2, 'round': 5, 'chatlog': {'player': 'Peter', 'role': 'Liberal', 'text': 'Yipeeeee'}}]\n"
     ]
    }
   ],
   "source": [
    "round_fetch = adapter.get_document_by_round(2, 5, \"agentDB\", \"test4\")\n",
    "print(f\"Documents by Round: {round_fetch}\")"
   ]
  },
  {
   "cell_type": "code",
   "execution_count": 83,
   "metadata": {},
   "outputs": [
    {
     "name": "stdout",
     "output_type": "stream",
     "text": [
      "All Documents: [{'game_id': 1, 'round': 1, 'chatlog': {'player': 'Harald', 'role': 'Faschist', 'text': 'Der Bernhard ist ein böser!'}}, {'game_id': 1, 'round': 1, 'chatlog': {'player': 'Bernhard', 'role': 'Hitler', 'text': 'Der Harald lügt.'}}, {'game_id': 1, 'round': 1, 'chatlog': {'player': 'Franz', 'role': 'Liberal', 'text': 'Ich habe nix zu sagen'}}, {'game_id': 1, 'round': 1, 'chatlog': {'player': 'Peter', 'role': 'Liberal', 'text': 'Huhu'}}, {'game_id': 1, 'round': 2, 'chatlog': {'player': 'Harald', 'role': 'Faschist', 'text': 'Ich mag Bananen'}}, {'game_id': 1, 'round': 2, 'chatlog': {'player': 'Bernhard', 'role': 'Hitler', 'text': 'Bananen sind doof'}}, {'game_id': 2, 'round': 1, 'chatlog': {'player': 'Franz', 'role': 'Liberal', 'text': 'Mein Name ist einfallslos'}}, {'game_id': 2, 'round': 5, 'chatlog': {'player': 'Peter', 'role': 'Liberal', 'text': 'Yipeeeee'}}]\n"
     ]
    }
   ],
   "source": [
    "fetch_all = adapter.get_all_documents(\"agentDB\", \"test4\")\n",
    "print(f\"All Documents: {fetch_all}\")"
   ]
  },
  {
   "cell_type": "code",
   "execution_count": null,
   "metadata": {},
   "outputs": [],
   "source": []
  }
 ],
 "metadata": {
  "kernelspec": {
   "display_name": "base",
   "language": "python",
   "name": "python3"
  },
  "language_info": {
   "codemirror_mode": {
    "name": "ipython",
    "version": 3
   },
   "file_extension": ".py",
   "mimetype": "text/x-python",
   "name": "python",
   "nbconvert_exporter": "python",
   "pygments_lexer": "ipython3",
   "version": "3.12.4"
  }
 },
 "nbformat": 4,
 "nbformat_minor": 2
}
