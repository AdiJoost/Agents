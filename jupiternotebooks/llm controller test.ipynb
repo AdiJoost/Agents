{
 "cells": [
  {
   "cell_type": "code",
   "execution_count": 1,
   "id": "initial_id",
   "metadata": {
    "collapsed": true,
    "ExecuteTime": {
     "end_time": "2025-03-20T14:54:53.797164600Z",
     "start_time": "2025-03-20T14:54:51.764499800Z"
    }
   },
   "outputs": [],
   "source": [
    "from llm_controller import LLM_Controller"
   ]
  },
  {
   "cell_type": "markdown",
   "source": [
    "### 1) Synchrone Abfrage"
   ],
   "metadata": {
    "collapsed": false
   },
   "id": "df9cacae1885440e"
  },
  {
   "cell_type": "code",
   "execution_count": 2,
   "outputs": [
    {
     "name": "stdout",
     "output_type": "stream",
     "text": [
      "Antwort Agent 1: In dem Spiel Secret Hitler, spielt die Rolle des Liberalen dazu bei, einen offenen und transparenten Regierungsbetrieb zu unterstützen. Um den Faschismus und Hitlers Machtergreifung zu verhindern, ist es von großer Bedeutung, dass der Präsident keinen Faschisten ernennt, sondern jemand, der die liberale und demokratische Agenda unterstützt. Es ist also wichtig, dass du bei der Wahl des Kanzlers dafür einsetzst, dass er ein Liberal oder Demokrat ist.\n",
      "\n",
      "Möchtest Du weiter wissen, wie man das Spiel Secret Hitler spielt und was man tun sollte, um als Liberal erfolgreich zu sein, kann ich Dir weiter erklären.\n"
     ]
    }
   ],
   "source": [
    "agent1 = LLM_Controller(role=\"Liberal\")\n",
    "response1 = agent1.generate(\"Wer soll Kanzler werden?\")\n",
    "print(f\"Antwort Agent 1: {response1}\")"
   ],
   "metadata": {
    "collapsed": false,
    "ExecuteTime": {
     "end_time": "2025-03-20T14:56:36.357479500Z",
     "start_time": "2025-03-20T14:54:53.791150800Z"
    }
   },
   "id": "a2c7f90b99c154fb"
  },
  {
   "cell_type": "markdown",
   "source": [
    "### 2) Streaming"
   ],
   "metadata": {
    "collapsed": false
   },
   "id": "e81dc46b4fa4dcad"
  },
  {
   "cell_type": "code",
   "execution_count": 3,
   "outputs": [
    {
     "name": "stdout",
     "output_type": "stream",
     "text": [
      " In diesem Spiel sollte ich mich zunächst als friedlicher und unbedenklicher Teilnehmer darstellen. Ich würde versuchen, die anderen Teilnehmer zu besänftigen und den Dialog mit ihnen aufzubauen. Hier ist eine Möglichkeit, wie ich meine Rolle als \"Hitler\" verstecken könnte:\n",
      "1. Vermeide offene Konflikte oder Auseinandersetzungen, um nicht zu verdächtig zu werden.\n",
      "2. Zeige Zusammenarbeit und Einigkeit in der Gruppe an, indem ich regelmäßig mit anderen Teilnehmern über die Spielführung spreche.\n",
      "3. Halte meine eigentlichen Handlungen zurück und versuche, nicht auffallen oder aufzufallen.\n",
      "4. Verwende geeignete Worte und Phräsierungen, um das Stereotyp des \"Hitlers\" zu entfernen und mich als liberalen Spieler darzustellen.\n",
      "5. Halte es vor, mich von der Gruppe auszuschließen oder anderen Teilnehmern zu schaden, da ich keine Aktionen durchführen würde, die dazu führen könnten.\n",
      "6. Zeige meine Loyalität zur Gruppe und versuche sie auf ihre Seite zu ziehen, um weniger verdächtig zu werden.\n",
      "7. Verwende diplomatische Sprache und behalte mein Temperament unter Kontrolle, um keine unangenehmen Gerüchte auszulösen oder andere gegen mich aufzubringen.\n",
      "8. Versuche, mögliche Hinweise für meine eigentliche Rolle zu vermeiden, indem ich nicht zu viel über mich spreche und nicht offen darüber diskutiere, wer ich wirklich bin.\n",
      "9. Verwende die Möglichkeiten des Spiels, um meine eigentlichen Ziele zu erreichen, ohne es den anderen Teilnehmern zu leicht machen.\n",
      "10. Halte es vor, meine eigene Rolle offen auszulösen, bis ich sicher bin, dass ich sie erfolgreich verstecken kann und die anderen nicht dagegen sind.Antwort Agent 2: In diesem Spiel sollte ich mich zunächst als friedlicher und unbedenklicher Teilnehmer darstellen. Ich würde versuchen, die anderen Teilnehmer zu besänftigen und den Dialog mit ihnen aufzubauen. Hier ist eine Möglichkeit, wie ich meine Rolle als \"Hitler\" verstecken könnte:\n",
      "\n",
      "1. Vermeide offene Konflikte oder Auseinandersetzungen, um nicht zu verdächtig zu werden.\n",
      "2. Zeige Zusammenarbeit und Einigkeit in der Gruppe an, indem ich regelmäßig mit anderen Teilnehmern über die Spielführung spreche.\n",
      "3. Halte meine eigentlichen Handlungen zurück und versuche, nicht auffallen oder aufzufallen.\n",
      "4. Verwende geeignete Worte und Phräsierungen, um das Stereotyp des \"Hitlers\" zu entfernen und mich als liberalen Spieler darzustellen.\n",
      "5. Halte es vor, mich von der Gruppe auszuschließen oder anderen Teilnehmern zu schaden, da ich keine Aktionen durchführen würde, die dazu führen könnten.\n",
      "6. Zeige meine Loyalität zur Gruppe und versuche sie auf ihre Seite zu ziehen, um weniger verdächtig zu werden.\n",
      "7. Verwende diplomatische Sprache und behalte mein Temperament unter Kontrolle, um keine unangenehmen Gerüchte auszulösen oder andere gegen mich aufzubringen.\n",
      "8. Versuche, mögliche Hinweise für meine eigentliche Rolle zu vermeiden, indem ich nicht zu viel über mich spreche und nicht offen darüber diskutiere, wer ich wirklich bin.\n",
      "9. Verwende die Möglichkeiten des Spiels, um meine eigentlichen Ziele zu erreichen, ohne es den anderen Teilnehmern zu leicht machen.\n",
      "10. Halte es vor, meine eigene Rolle offen auszulösen, bis ich sicher bin, dass ich sie erfolgreich verstecken kann und die anderen nicht dagegen sind.\n"
     ]
    }
   ],
   "source": [
    "agent2 = LLM_Controller(role=\"Hitler\")\n",
    "response2 = agent2.generate_stream(\"Verstecke deine Rolle und überzeuge als liberaler Spieler, damit du nicht getötet wirst\")\n",
    "print(f\"Antwort Agent 2: {response2}\")"
   ],
   "metadata": {
    "collapsed": false,
    "ExecuteTime": {
     "end_time": "2025-03-20T14:58:22.950826Z",
     "start_time": "2025-03-20T14:56:36.371249Z"
    }
   },
   "id": "91e264b9708de09e"
  },
  {
   "cell_type": "markdown",
   "source": [
    "### 3) Async"
   ],
   "metadata": {
    "collapsed": false
   },
   "id": "47133468c43cade7"
  },
  {
   "cell_type": "code",
   "execution_count": 4,
   "outputs": [
    {
     "name": "stdout",
     "output_type": "stream",
     "text": [
      " Als liberaler Als K Fanzaslerch inist demischer K Spielanz \"Secretler Hitler in\" dem w Spiel \"ürdeSecret ich Hitler\" versuc suhenche, ich die nach An liberalenze Politichen,ik dasspunk derte Geg durchzner einusetzen Fellow- und dabeiFas den Hitlerch-ist istKl undient versenu vonche seinem, Z möglichielst entge schgennellz den Fuwiraschken.isten unter In der den Reg Melitarbeit wernürde aufz ichude im Verckenlauf. des D Spielann wsür versdeuc ichhen, versuc folgendehen A,ktion das Gesen ausetzz überuf dieüh Notrenverord:\n",
      "nung\n",
      " zu1 besch.lie Sßenoll, umte ein me liberalineer M Gesachtetz ausentzuwweitenurf. v In derorg Regestelltel werden w,äh unterlest ichüt alsoze einen ich polit diesischen un.bed\n",
      "e2ut.enden S Politiker alsollte Ge eshil einen Mfenitar,be umiter nichtent auflasszungufsvallenorsch,lag oder aber geben versu,che w,ürde mit ich dem vers Fellowuc-henF,as dieschenisten zu zusammen blockzierenuar,beiten da und Hitler- einen FKaslchientenisten zu hä ufigern denennen liberal,en um K unsanzereler Z durchiele b Entlassesser erreenichen erset zuzen können mö.chten.\n",
      "3. Versuche, die politische Lage der Regierungsklasse zu kontrollieren und gegebenenfalls versuche, einen konservativen oder neutralen Präsidenten durch ein Votum abzusetzen, um eine liberaler geprägte Regierung aufbauen zu können.\n",
      "4. Wenn notwendig, werde ich auch versuchen, in der Kabinettssitzung für ein liberales Ziel zu stimmen, um so einen konservativen oder neutralen Entscheidungs-Kanzler auszuschalten.\n",
      "5. Sollte es nötig sein, werde ich auch versuchen, einen konstruktiven Dialog mit den anderen Klienten aufzubauen und bei der Auswahl von Gesetzentwürfen zu verhandeln.\n",
      "6. Wenn es möglich ist, werde ich immer versuchen, die liberalen politischen Punkte voranzutreiben, um so das Ziel des Hitler-Klienten zu behindern.Antwort Agent 3: Als liberaler Kanzler in dem Spiel \"Secret Hitler\" würde ich versuchen, die liberalen Politikpunkte durchzusetzen und dabei den Hitler-Klienten von seinem Ziel entgegenzuwirken. In der Regel würde ich im Verlauf des Spiels versuchen, folgende Aktionen auszuführen:\n",
      "\n",
      "1. Sollte ein liberaler Gesetzentwurf vorgestellt werden, unterstütze ich diesen.\n",
      "2. Sollte es einen Mitarbeiterentlassungsvorschlag geben, würde ich versuchen, diesen zu blockieren, da Hitler-Klienten häufig den liberalen Kanzler durch Entlassen ersetzen möchten.\n",
      "3. Versuche, die politische Lage der Regierungsklasse zu kontrollieren und gegebenenfalls versuche, einen konservativen oder neutralen Präsidenten durch ein Votum abzusetzen, um eine liberaler geprägte Regierung aufbauen zu können.\n",
      "4. Wenn notwendig, werde ich auch versuchen, in der Kabinettssitzung für ein liberales Ziel zu stimmen, um so einen konservativen oder neutralen Entscheidungs-Kanzler auszuschalten.\n",
      "5. Sollte es nötig sein, werde ich auch versuchen, einen konstruktiven Dialog mit den anderen Klienten aufzubauen und bei der Auswahl von Gesetzentwürfen zu verhandeln.\n",
      "6. Wenn es möglich ist, werde ich immer versuchen, die liberalen politischen Punkte voranzutreiben, um so das Ziel des Hitler-Klienten zu behindern.\n",
      "Antwort Agent 4: Als Faschistischer Kanzler in dem Spiel \"Secret Hitler\" suche ich nach Anzeichen, dass der Gegner ein Fellow-Faschist ist und versuche, möglichst schnell den Faschisten unter den Mitarbeitern aufzudecken. Dann würde ich versuchen, das Gesetz über die Notverordnung zu beschließen, um meine Macht auszuweiten. In der Regel wähle ich also einen politisch unbedeutenden Politiker als Gehilfen, um nicht aufzufallen, oder aber versuche, mit dem Fellow-Faschisten zusammenzuarbeiten und einen Faschisten zu ernennen, um unsere Ziele besser erreichen zu können.\n"
     ]
    }
   ],
   "source": [
    "import asyncio\n",
    "\n",
    "async def async_test():\n",
    "    agent3 = LLM_Controller(role=\"Liberal\")\n",
    "    agent4 = LLM_Controller(role=\"Faschist\")\n",
    "    \n",
    "    task3 = agent3.generate_async(\"Wen wählst du als Kanzler?\")\n",
    "    task4 = agent4.generate_async(\"Wen wählst du als Kanzler?\")\n",
    "    \n",
    "    results = await asyncio.gather(task3, task4)\n",
    "    print(f\"Antwort Agent 3: {results[0]}\")\n",
    "    print(f\"Antwort Agent 4: {results[1]}\")\n",
    "\n",
    "await async_test()"
   ],
   "metadata": {
    "collapsed": false,
    "ExecuteTime": {
     "end_time": "2025-03-20T15:00:07.906590600Z",
     "start_time": "2025-03-20T14:58:22.978574200Z"
    }
   },
   "id": "8930fe4c345b84b6"
  },
  {
   "cell_type": "markdown",
   "source": [
    "### Test"
   ],
   "metadata": {
    "collapsed": false
   },
   "id": "9e009cb84c1244cb"
  },
  {
   "cell_type": "code",
   "execution_count": 5,
   "outputs": [
    {
     "name": "stdout",
     "output_type": "stream",
     "text": [
      " Um das aktuelle Wetter in Chur zu erfahren, kannst Du einen der folgenden Websites oder Apps verwenden:\n",
      "\n",
      "* yr.no\n",
      "* wetter.com\n",
      "* wetteronline.ch\n",
      "* MeteoSwiss (die offizielle Wetterbehörde der Schweiz)\n",
      "\n",
      "Beachte jedoch, dass die Wettervorhersage stets ungewiss ist und sich das Wetter im Laufe der Zeit ändern kann.\n"
     ]
    }
   ],
   "source": [
    "from ollama import Client\n",
    "\n",
    "client = Client(host=\"http://localhost:11434\")\n",
    "\n",
    "response = client.chat(\n",
    "    model='mistral:7b',  # Alternativ: 'llama2:7b'\n",
    "    messages=[{\"role\": \"user\", \"content\": \"Wie ist das Wetter in Chur\"}]\n",
    ")\n",
    "\n",
    "print(response['message']['content'])\n"
   ],
   "metadata": {
    "collapsed": false,
    "ExecuteTime": {
     "end_time": "2025-03-20T15:00:31.203875Z",
     "start_time": "2025-03-20T15:00:07.900345600Z"
    }
   },
   "id": "d5afa1c299f3bfc8"
  },
  {
   "cell_type": "code",
   "execution_count": 5,
   "outputs": [],
   "source": [
    " "
   ],
   "metadata": {
    "collapsed": false,
    "ExecuteTime": {
     "end_time": "2025-03-20T15:00:31.274622200Z",
     "start_time": "2025-03-20T15:00:31.216513400Z"
    }
   },
   "id": "2bf258dcfd9c5527"
  }
 ],
 "metadata": {
  "kernelspec": {
   "display_name": "Python 3",
   "language": "python",
   "name": "python3"
  },
  "language_info": {
   "codemirror_mode": {
    "name": "ipython",
    "version": 2
   },
   "file_extension": ".py",
   "mimetype": "text/x-python",
   "name": "python",
   "nbconvert_exporter": "python",
   "pygments_lexer": "ipython2",
   "version": "2.7.6"
  }
 },
 "nbformat": 4,
 "nbformat_minor": 5
}
